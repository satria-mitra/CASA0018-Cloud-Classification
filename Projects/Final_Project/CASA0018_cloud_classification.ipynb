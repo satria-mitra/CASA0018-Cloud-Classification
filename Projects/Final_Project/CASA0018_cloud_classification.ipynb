{
  "cells": [
    {
      "cell_type": "markdown",
      "source": [
        "## **Instruction**\n",
        "\n",
        "This project, Cloud classification, is part of CASA0018 Deep Learning project. The dataset is available to download from the link below. However, some images are taken by myself or from publis image repository such as Flickr. Follow the steps on this tutorial to see the result. One may have different result since the datasets are not identic.\n",
        "\n",
        "\n",
        "1.   Download Cirrus Cumulus Stratus Nimbus (CCSN) Database\n",
        "https://dataverse.harvard.edu/dataset.xhtml?persistentId=doi:10.7910/DVN/CADDPD&version=2.0\n",
        "\n",
        "2.   Download Howard-Cloud-X\n",
        "https://www.kaggle.com/datasets/imbikramsaha/howard-cloudx/code"
      ],
      "metadata": {
        "id": "lMshZUzm9fUC"
      }
    },
    {
      "cell_type": "markdown",
      "source": [
        "### **Data Cleaning**\n",
        "#### Manual checking the image\n",
        "\n",
        "While CCSN datasets has 10 cloud types + 1 contrail, Howard-Cloud-X only has 10 cloud types without contrail.\n",
        "\n",
        "First, lets see how many pictures for each type of cloud from the two datasets"
      ],
      "metadata": {
        "id": "MJKlCiJiBwS8"
      }
    },
    {
      "cell_type": "code",
      "execution_count": 2,
      "metadata": {
        "id": "rDWMHW399OSn"
      },
      "outputs": [],
      "source": [
        "import cv2 #opencv\n",
        "import os\n",
        "import time\n",
        "import uuid"
      ]
    },
    {
      "cell_type": "code",
      "source": [
        "from google.colab import drive\n",
        "drive.mount('/content/drive')"
      ],
      "metadata": {
        "colab": {
          "base_uri": "https://localhost:8080/"
        },
        "id": "9KhsG0Om-5aD",
        "outputId": "8109f1aa-abb7-4643-ba5d-7bd772afbc1f"
      },
      "execution_count": 3,
      "outputs": [
        {
          "output_type": "stream",
          "name": "stdout",
          "text": [
            "Mounted at /content/drive\n"
          ]
        }
      ]
    },
    {
      "cell_type": "code",
      "execution_count": 4,
      "metadata": {
        "id": "6K1isNzn9OSo",
        "colab": {
          "base_uri": "https://localhost:8080/"
        },
        "outputId": "60af1c8e-3b3a-4afc-f97d-a5f30252f42c"
      },
      "outputs": [
        {
          "output_type": "stream",
          "name": "stdout",
          "text": [
            "Files and directories in ' /content/drive/MyDrive/Kuliah/UCL/Projects/CASA0018-Cloud-Classification/Projects/Final_Project/Datasets/CCSN_v2 ' : ['Sc', 'Ns', 'Ci', 'Cu', 'Cs', 'Ct', 'St', 'As', 'Cc', 'Ac', 'Cb']\n"
          ]
        }
      ],
      "source": [
        "CCSN_path = '/content/drive/MyDrive/Kuliah/UCL/Projects/CASA0018-Cloud-Classification/Projects/Final_Project/Datasets/CCSN_v2' #Directories of Google Drive\n",
        "\n",
        "os.chdir(CCSN_path) #Go to path\n",
        "os.listdir(CCSN_path) #List out files in the path\n",
        "print(\"Files and directories in '\", CCSN_path, \"' :\", os.listdir(CCSN_path))"
      ]
    },
    {
      "cell_type": "code",
      "source": [
        "Howard_path = '/content/drive/MyDrive/Kuliah/UCL/Projects/CASA0018-Cloud-Classification/Projects/Final_Project/Datasets/Howard-Cloud-X' #Directories of Google Drive\n",
        "os.chdir(Howard_path) #Go to path\n",
        "os.listdir(Howard_path) #List out files in the path\n",
        "print(\"Files and directories in '\", Howard_path, \"' :\", os.listdir(Howard_path))"
      ],
      "metadata": {
        "colab": {
          "base_uri": "https://localhost:8080/"
        },
        "id": "gCX5vAwBAqN_",
        "outputId": "014ebbac-1f04-4154-dc85-525f1f925591"
      },
      "execution_count": 5,
      "outputs": [
        {
          "output_type": "stream",
          "name": "stdout",
          "text": [
            "Files and directories in ' /content/drive/MyDrive/Kuliah/UCL/Projects/CASA0018-Cloud-Classification/Projects/Final_Project/Datasets/Howard-Cloud-X ' : ['Ac', 'As', 'Cc', 'Cs', 'Ci', 'Cb', 'Cu', 'Ns', 'Sc', 'St']\n"
          ]
        }
      ]
    },
    {
      "cell_type": "code",
      "source": [
        "CCSN_dir = os.listdir(CCSN_path)\n",
        "for dir_name in CCSN_dir:\n",
        "    # Create the full path to the directory\n",
        "    dir_path = os.path.join(CCSN_path, dir_name)\n",
        "\n",
        "    # Get a list of files in the directory\n",
        "    files = os.listdir(dir_path)\n",
        "\n",
        "    # Count the number of files\n",
        "    num_files = len(files)\n",
        "\n",
        "    # Print the directory name and the number of files it contains\n",
        "    print(f\"{dir_name}: {num_files} files\")"
      ],
      "metadata": {
        "colab": {
          "base_uri": "https://localhost:8080/"
        },
        "id": "69cfaVHHB3iU",
        "outputId": "a42bb87f-b0fd-437b-80b6-ada9ee12903d"
      },
      "execution_count": 76,
      "outputs": [
        {
          "output_type": "stream",
          "name": "stdout",
          "text": [
            "Sc: 208 files\n",
            "Ns: 162 files\n",
            "Ci: 74 files\n",
            "Cu: 109 files\n",
            "Cs: 58 files\n",
            "Ct: 155 files\n",
            "St: 257 files\n",
            "As: 65 files\n",
            "Cc: 105 files\n",
            "Ac: 118 files\n",
            "Cb: 193 files\n"
          ]
        }
      ]
    },
    {
      "cell_type": "code",
      "source": [
        "Howard_dir = os.listdir(Howard_path)\n",
        "for dir_name in Howard_dir:\n",
        "    # Create the full path to the directory\n",
        "    dir_path = os.path.join(Howard_path, dir_name)\n",
        "\n",
        "    # Get a list of files in the directory\n",
        "    files = os.listdir(dir_path)\n",
        "\n",
        "    # Count the number of files\n",
        "    num_files = len(files)\n",
        "\n",
        "    # Print the directory name and the number of files it contains\n",
        "    print(f\"{dir_name}: {num_files} files\")"
      ],
      "metadata": {
        "colab": {
          "base_uri": "https://localhost:8080/"
        },
        "id": "M6-E_EGD_fJq",
        "outputId": "cf223bc7-581a-4fd9-e640-df44c9448508"
      },
      "execution_count": 77,
      "outputs": [
        {
          "output_type": "stream",
          "name": "stdout",
          "text": [
            "Ac: 136 files\n",
            "As: 187 files\n",
            "Cc: 131 files\n",
            "Cs: 129 files\n",
            "Ci: 120 files\n",
            "Cb: 124 files\n",
            "Cu: 188 files\n",
            "Ns: 131 files\n",
            "Sc: 132 files\n",
            "St: 137 files\n"
          ]
        }
      ]
    },
    {
      "cell_type": "markdown",
      "source": [
        "#### Combine files from both datasets"
      ],
      "metadata": {
        "id": "--C6A8G-HHaO"
      }
    },
    {
      "cell_type": "code",
      "source": [
        "import shutil\n",
        "\n",
        "combined_path = '/content/combined_datasets_new'\n",
        "for dir_name in os.listdir(CCSN_path):\n",
        "    combined_subdir = os.path.join(combined_path, dir_name)\n",
        "    if not os.path.exists(combined_subdir):\n",
        "        os.makedirs(combined_subdir)\n",
        "\n",
        "# Function to copy files from source to destination\n",
        "def copy_files(source_path):\n",
        "    for dir_name in os.listdir(source_path):\n",
        "        source_dir_path = os.path.join(source_path, dir_name)\n",
        "        destination_dir_path = os.path.join(combined_path, dir_name)\n",
        "\n",
        "        if not os.path.exists(destination_dir_path):\n",
        "            os.makedirs(destination_dir_path)\n",
        "\n",
        "\n",
        "        for file_name in os.listdir(source_dir_path):\n",
        "            src_file_path = os.path.join(source_dir_path, file_name)\n",
        "            dst_file_path = os.path.join(destination_dir_path, file_name)\n",
        "\n",
        "            file_counter = 1\n",
        "            while os.path.exists(dst_file_path):\n",
        "                name, ext = os.path.splitext(file_name)\n",
        "                new_name = f\"{name}_{file_counter}{ext}\"\n",
        "                dst_file_path = os.path.join(destination_dir_path, new_name)\n",
        "                file_counter += 1\n",
        "\n",
        "            # Copy the file to the destination directory\n",
        "            shutil.copy(src_file_path, dst_file_path)\n",
        "\n",
        "copy_files(CCSN_path)\n",
        "copy_files(Howard_path)\n"
      ],
      "metadata": {
        "id": "7UGqlTfzJVE0"
      },
      "execution_count": 78,
      "outputs": []
    },
    {
      "cell_type": "markdown",
      "source": [
        "#### Recheck how many files there are in each cloud types"
      ],
      "metadata": {
        "id": "MGKM3qa4JRWi"
      }
    },
    {
      "cell_type": "code",
      "source": [
        "combined_path = '/content/combined_datasets'\n",
        "combined_dir = os.listdir(combined_path)\n",
        "\n",
        "for dir_name in combined_dir:\n",
        "    # Create the full path to the directory\n",
        "    dir_path = os.path.join(combined_path, dir_name)\n",
        "\n",
        "    # Get a list of files in the directory\n",
        "    files = os.listdir(dir_path)\n",
        "\n",
        "    # Count the number of files\n",
        "    num_files = len(files)\n",
        "\n",
        "    # Print the directory name and the number of files it contains\n",
        "    print(f\"{dir_name}: {num_files} files\")"
      ],
      "metadata": {
        "colab": {
          "base_uri": "https://localhost:8080/"
        },
        "id": "ibP0oJADSDU-",
        "outputId": "007eaf76-b666-463b-fd40-8cef54d1636e"
      },
      "execution_count": 87,
      "outputs": [
        {
          "output_type": "stream",
          "name": "stdout",
          "text": [
            "Ci: 194 files\n",
            "Ns: 293 files\n",
            "Sc: 340 files\n",
            "Cu: 297 files\n",
            "Cc: 236 files\n",
            "Ac: 254 files\n",
            "As: 252 files\n",
            "St: 394 files\n",
            "Cb: 317 files\n",
            "Cs: 187 files\n",
            "Ct: 155 files\n"
          ]
        }
      ]
    },
    {
      "cell_type": "markdown",
      "source": [
        "#### **Ohh noo**\n",
        "Looks like our dataset is imbalance, and some cloud even has less than 200 pictures. Let's add more dataset.\n",
        "\n",
        "This is how you can add more dataset:\n",
        "1. Download one by one image from Google or Flickr.\n",
        "\n",
        "**or**\n",
        "\n",
        "\n",
        "2. Bulk download using some Python scripts.\n",
        "I opt for this option because I'm a ~lazy~ clever person (sorry Duncan)\n",
        "\n",
        "I found the way [how to bulk download images from Flickr](https://www.youtube.com/watch?v=9sBQqlTtQ2k) on Youtube. Credits goes to [Jeff Heaton](https://www.heatonresearch.com/) for his amazing [pyimgdata](https://github.com/jeffheaton/pyimgdata) script to download image from Flickr.\n",
        "What really surprising is this python code still working eventhough it is already 4 years old!.\n",
        "\n",
        "Now lets run the code"
      ],
      "metadata": {
        "id": "aq0MYtoZndpI"
      }
    },
    {
      "cell_type": "markdown",
      "source": [
        "#### **Run pyimgdata scripts**\n",
        "\n",
        "1. First, you need to [register](https://www.flickr.com/services/apps/create/apply) for Flickr API, then you will obtain your `key`and `secret`.\n",
        "2. download [pyimgdata](https://github.com/jeffheaton/pyimgdata) from Github.\n",
        "3. Open `config_flickr.ini` file and insert your `key`and `secret`. Also edit other variables for your desire projects.\n",
        "4. Import flickr API and Pillow packages\n"
      ],
      "metadata": {
        "id": "Riu8ENu-qI8c"
      }
    },
    {
      "cell_type": "code",
      "source": [
        "pip install flickrapi"
      ],
      "metadata": {
        "id": "MQLXXdZStkis",
        "outputId": "c95201ae-0db0-4b49-d698-0829b548a4a4",
        "colab": {
          "base_uri": "https://localhost:8080/"
        }
      },
      "execution_count": 28,
      "outputs": [
        {
          "output_type": "stream",
          "name": "stdout",
          "text": [
            "Requirement already satisfied: flickrapi in /usr/local/lib/python3.10/dist-packages (2.4.0)\n",
            "Requirement already satisfied: six>=1.5.2 in /usr/local/lib/python3.10/dist-packages (from flickrapi) (1.16.0)\n",
            "Requirement already satisfied: requests>=2.2.1 in /usr/local/lib/python3.10/dist-packages (from flickrapi) (2.31.0)\n",
            "Requirement already satisfied: requests-oauthlib>=0.4.0 in /usr/local/lib/python3.10/dist-packages (from flickrapi) (1.3.1)\n",
            "Requirement already satisfied: requests-toolbelt>=0.3.1 in /usr/local/lib/python3.10/dist-packages (from flickrapi) (1.0.0)\n",
            "Requirement already satisfied: charset-normalizer<4,>=2 in /usr/local/lib/python3.10/dist-packages (from requests>=2.2.1->flickrapi) (3.3.2)\n",
            "Requirement already satisfied: idna<4,>=2.5 in /usr/local/lib/python3.10/dist-packages (from requests>=2.2.1->flickrapi) (3.7)\n",
            "Requirement already satisfied: urllib3<3,>=1.21.1 in /usr/local/lib/python3.10/dist-packages (from requests>=2.2.1->flickrapi) (2.0.7)\n",
            "Requirement already satisfied: certifi>=2017.4.17 in /usr/local/lib/python3.10/dist-packages (from requests>=2.2.1->flickrapi) (2024.2.2)\n",
            "Requirement already satisfied: oauthlib>=3.0.0 in /usr/local/lib/python3.10/dist-packages (from requests-oauthlib>=0.4.0->flickrapi) (3.2.2)\n"
          ]
        }
      ]
    },
    {
      "cell_type": "code",
      "source": [
        "from PIL import Image"
      ],
      "metadata": {
        "id": "yT9leDG9vWDR"
      },
      "execution_count": 38,
      "outputs": []
    },
    {
      "cell_type": "markdown",
      "source": [
        "5. Run the `flickr-download.py` on your machine. For my case, I will run 11 times since I want to add more datasets for 11 cloud types"
      ],
      "metadata": {
        "id": "oEAGpX2ZtvpR"
      }
    },
    {
      "cell_type": "code",
      "source": [
        "import os\n",
        "os.chdir('/content')\n",
        "!python flickr-download.py"
      ],
      "metadata": {
        "id": "-zuUfLBat2ZG",
        "outputId": "093966d7-0610-4622-8f53-ad74d1ecb00f",
        "colab": {
          "base_uri": "https://localhost:8080/"
        }
      },
      "execution_count": 59,
      "outputs": [
        {
          "output_type": "stream",
          "name": "stdout",
          "text": [
            "2024-04-24 10:07:51,811 - root - INFO : Line 166 - Starting...\n",
            "/content/flickr-download.py:131: DeprecationWarning: ANTIALIAS is deprecated and will be removed in Pillow 10 (2023-07-01). Use LANCZOS or Resampling.LANCZOS instead.\n",
            "  Image.ANTIALIAS)\n",
            "2024-04-24 10:08:14,386 - root - INFO : Line 158 - Writing sources file.\n",
            "2024-04-24 10:08:14,387 - root - INFO : Line 192 - Complete, elapsed time: 0:00:22.58\n"
          ]
        }
      ]
    },
    {
      "cell_type": "code",
      "source": [
        "flickr_path = '/content/flickr_datasets'\n",
        "flickr_dir = os.listdir(flickr_path)\n",
        "\n",
        "for dir_name in flickr_dir:\n",
        "    # Create the full path to the directory\n",
        "    dir_path = os.path.join(flickr_path, dir_name)\n",
        "\n",
        "    # Get a list of files in the directory\n",
        "    files = os.listdir(dir_path)\n",
        "\n",
        "    # Count the number of files\n",
        "    num_files = len(files)\n",
        "\n",
        "    # Print the directory name and the number of files it contains\n",
        "    print(f\"{dir_name}: {num_files} files\")"
      ],
      "metadata": {
        "id": "B79gaCKOt98z",
        "outputId": "6ccb5ab7-e842-4ada-e9af-8c31242146ff",
        "colab": {
          "base_uri": "https://localhost:8080/"
        }
      },
      "execution_count": 82,
      "outputs": [
        {
          "output_type": "stream",
          "name": "stdout",
          "text": [
            "Ci: 352 files\n",
            "Ns: 352 files\n",
            "Sc: 352 files\n",
            "Cu: 352 files\n",
            "Cc: 365 files\n",
            "Ac: 379 files\n",
            "As: 361 files\n",
            "St: 74 files\n",
            ".ipynb_checkpoints: 0 files\n",
            "Cb: 352 files\n",
            "Cs: 332 files\n",
            "Ct: 352 files\n"
          ]
        }
      ]
    },
    {
      "cell_type": "markdown",
      "source": [
        "6. Back up flickr datasets & combined datasets (CCSN & Howard) to google drive"
      ],
      "metadata": {
        "id": "JuCI9MX22CXz"
      }
    },
    {
      "cell_type": "code",
      "source": [
        "from google.colab import drive\n",
        "\n",
        "# Mount Google Drive\n",
        "drive.mount('/content/drive')\n",
        "\n",
        "# Path to the directory you want to copy\n",
        "flickr_directory = '/content/flickr_datasets'\n",
        "\n",
        "# Path in your Google Drive where you want to store the data\n",
        "flickr_destination_directory = '/content/drive/MyDrive/Kuliah/UCL/Projects/CASA0018-Cloud-Classification/Projects/Final_Project/Datasets/flick_datasets'\n",
        "\n",
        "# Copy the entire directory to Google Drive\n",
        "!cp -r {source_directory} {destination_directory}\n",
        "\n",
        "print(\"Files have been copied to your Google Drive.\")"
      ],
      "metadata": {
        "id": "JoruVV4ci0SW",
        "outputId": "ef8932a2-22c8-42db-e7af-59704efa424f",
        "colab": {
          "base_uri": "https://localhost:8080/"
        }
      },
      "execution_count": 88,
      "outputs": [
        {
          "output_type": "stream",
          "name": "stdout",
          "text": [
            "Drive already mounted at /content/drive; to attempt to forcibly remount, call drive.mount(\"/content/drive\", force_remount=True).\n",
            "Files have been copied to your Google Drive.\n"
          ]
        }
      ]
    },
    {
      "cell_type": "code",
      "source": [
        "# Path to the directory you want to copy\n",
        "combined_directory = '/content/combined_datasets'\n",
        "\n",
        "# Path in your Google Drive where you want to store the data\n",
        "combined_destination_directory = '/content/drive/MyDrive/Kuliah/UCL/Projects/CASA0018-Cloud-Classification/Projects/Final_Project/Datasets/combined_datasets'\n",
        "\n",
        "# Copy the entire directory to Google Drive\n",
        "!cp -r {source_directory} {destination_directory}\n",
        "\n",
        "print(\"Files have been copied to your Google Drive.\")"
      ],
      "metadata": {
        "id": "5E3aDzK327U3",
        "outputId": "e2b35340-4c8c-48a9-d819-8bec6baf2e7d",
        "colab": {
          "base_uri": "https://localhost:8080/"
        }
      },
      "execution_count": 89,
      "outputs": [
        {
          "output_type": "stream",
          "name": "stdout",
          "text": [
            "Files have been copied to your Google Drive.\n"
          ]
        }
      ]
    },
    {
      "cell_type": "markdown",
      "source": [],
      "metadata": {
        "id": "n31cDRWKtenm"
      }
    },
    {
      "cell_type": "markdown",
      "source": [],
      "metadata": {
        "id": "VEdggjmb260Y"
      }
    },
    {
      "cell_type": "markdown",
      "source": [],
      "metadata": {
        "id": "bAgKiu2BrV6z"
      }
    },
    {
      "cell_type": "markdown",
      "source": [
        "## **Data Processing**\n",
        "#### Import Dependancies and modules required"
      ],
      "metadata": {
        "id": "gYW46N579g2i"
      }
    },
    {
      "cell_type": "code",
      "execution_count": null,
      "metadata": {
        "id": "EH5_wLSM9OSn"
      },
      "outputs": [],
      "source": [
        "import os #for creating path names and manipulating directories/files in an operating system\n",
        "import random\n",
        "import tensorflow as tf"
      ]
    },
    {
      "cell_type": "code",
      "execution_count": null,
      "metadata": {
        "id": "T1sYJp1N9OSn",
        "outputId": "d0fa32f9-7454-47bc-adcd-80322698a3ce",
        "colab": {
          "base_uri": "https://localhost:8080/"
        }
      },
      "outputs": [
        {
          "output_type": "stream",
          "name": "stdout",
          "text": [
            "2.15.0\n"
          ]
        }
      ],
      "source": [
        "import os #for creating path names and manipulating directories/files in an operating system\n",
        "import random\n",
        "import tensorflow as tf\n",
        "from tensorflow.keras.optimizers import RMSprop\n",
        "from tensorflow.keras.preprocessing.image import ImageDataGenerator\n",
        "from shutil import copyfile\n",
        "from PIL import Image\n",
        "import PIL\n",
        "import numpy as np\n",
        "import cv2\n",
        "import matplotlib.pyplot as plt\n",
        "import datetime #for tensorboard and logging\n",
        "\n",
        "print(tf.__version__)"
      ]
    },
    {
      "cell_type": "markdown",
      "source": [
        "### Connect to Data Directory in Google Drive"
      ],
      "metadata": {
        "id": "XU6TAZGj_U5V"
      }
    },
    {
      "cell_type": "markdown",
      "source": [
        "##### CCSN Datasets"
      ],
      "metadata": {
        "id": "PblWm3m7AZfW"
      }
    },
    {
      "cell_type": "markdown",
      "source": [
        "##### Howard Datasets"
      ],
      "metadata": {
        "id": "HyCaEsVRAgAd"
      }
    }
  ],
  "metadata": {
    "kernelspec": {
      "display_name": "Python 3",
      "language": "python",
      "name": "python3"
    },
    "language_info": {
      "codemirror_mode": {
        "name": "ipython",
        "version": 3
      },
      "file_extension": ".py",
      "mimetype": "text/x-python",
      "name": "python",
      "nbconvert_exporter": "python",
      "pygments_lexer": "ipython3",
      "version": "3.11.8"
    },
    "colab": {
      "provenance": []
    }
  },
  "nbformat": 4,
  "nbformat_minor": 0
}